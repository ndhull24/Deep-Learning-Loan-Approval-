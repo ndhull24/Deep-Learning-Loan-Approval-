{
  "nbformat": 4,
  "nbformat_minor": 0,
  "metadata": {
    "colab": {
      "provenance": [],
      "machine_shape": "hm",
      "gpuType": "A100"
    },
    "kernelspec": {
      "name": "python3",
      "display_name": "Python 3"
    },
    "language_info": {
      "name": "python"
    },
    "accelerator": "GPU"
  },
  "cells": [
    {
      "cell_type": "markdown",
      "source": [
        "# Mounting the drive"
      ],
      "metadata": {
        "id": "FFjJnMHDBlux"
      }
    },
    {
      "cell_type": "code",
      "source": [
        "!pip install streamlit shap --quiet\n",
        "import streamlit as st"
      ],
      "metadata": {
        "id": "FaXgJOgp2f-I"
      },
      "execution_count": 52,
      "outputs": []
    },
    {
      "cell_type": "code",
      "execution_count": 53,
      "metadata": {
        "colab": {
          "base_uri": "https://localhost:8080/"
        },
        "id": "pxz39ZDZuBeJ",
        "outputId": "974a6e6b-3cc0-4157-b9ce-2dd0b6a9b6bf"
      },
      "outputs": [
        {
          "output_type": "stream",
          "name": "stdout",
          "text": [
            "Drive already mounted at /content/drive; to attempt to forcibly remount, call drive.mount(\"/content/drive\", force_remount=True).\n"
          ]
        }
      ],
      "source": [
        "from google.colab import drive\n",
        "drive.mount('/content/drive')"
      ]
    },
    {
      "cell_type": "markdown",
      "source": [
        "# Loading the data"
      ],
      "metadata": {
        "id": "A5927aSDBrGM"
      }
    },
    {
      "cell_type": "code",
      "source": [
        "import pandas as pd"
      ],
      "metadata": {
        "id": "FOoxOoJMuZ4v"
      },
      "execution_count": 54,
      "outputs": []
    },
    {
      "cell_type": "code",
      "source": [
        "df = pd.read_csv('/content/drive/MyDrive/Deep Learning Class Project /archive (8)/loan_data.csv')"
      ],
      "metadata": {
        "id": "QcbD9_XKukCQ"
      },
      "execution_count": 55,
      "outputs": []
    },
    {
      "cell_type": "code",
      "source": [
        "df.head()"
      ],
      "metadata": {
        "colab": {
          "base_uri": "https://localhost:8080/"
        },
        "id": "9c6aPNnLuwmJ",
        "outputId": "60fa4127-2f0a-4333-bff4-760021ea46f6"
      },
      "execution_count": 56,
      "outputs": [
        {
          "output_type": "execute_result",
          "data": {
            "text/plain": [
              "   person_age person_gender person_education  person_income  person_emp_exp  \\\n",
              "0        22.0        female           Master        71948.0               0   \n",
              "1        21.0        female      High School        12282.0               0   \n",
              "2        25.0        female      High School        12438.0               3   \n",
              "3        23.0        female         Bachelor        79753.0               0   \n",
              "4        24.0          male           Master        66135.0               1   \n",
              "\n",
              "  person_home_ownership  loan_amnt loan_intent  loan_int_rate  \\\n",
              "0                  RENT    35000.0    PERSONAL          16.02   \n",
              "1                   OWN     1000.0   EDUCATION          11.14   \n",
              "2              MORTGAGE     5500.0     MEDICAL          12.87   \n",
              "3                  RENT    35000.0     MEDICAL          15.23   \n",
              "4                  RENT    35000.0     MEDICAL          14.27   \n",
              "\n",
              "   loan_percent_income  cb_person_cred_hist_length  credit_score  \\\n",
              "0                 0.49                         3.0           561   \n",
              "1                 0.08                         2.0           504   \n",
              "2                 0.44                         3.0           635   \n",
              "3                 0.44                         2.0           675   \n",
              "4                 0.53                         4.0           586   \n",
              "\n",
              "  previous_loan_defaults_on_file  loan_status  \n",
              "0                             No            1  \n",
              "1                            Yes            0  \n",
              "2                             No            1  \n",
              "3                             No            1  \n",
              "4                             No            1  "
            ],
            "text/html": [
              "\n",
              "  <div id=\"df-0f1ca573-3fb5-4052-a3f4-d0d7f0323eb4\" class=\"colab-df-container\">\n",
              "    <div>\n",
              "<style scoped>\n",
              "    .dataframe tbody tr th:only-of-type {\n",
              "        vertical-align: middle;\n",
              "    }\n",
              "\n",
              "    .dataframe tbody tr th {\n",
              "        vertical-align: top;\n",
              "    }\n",
              "\n",
              "    .dataframe thead th {\n",
              "        text-align: right;\n",
              "    }\n",
              "</style>\n",
              "<table border=\"1\" class=\"dataframe\">\n",
              "  <thead>\n",
              "    <tr style=\"text-align: right;\">\n",
              "      <th></th>\n",
              "      <th>person_age</th>\n",
              "      <th>person_gender</th>\n",
              "      <th>person_education</th>\n",
              "      <th>person_income</th>\n",
              "      <th>person_emp_exp</th>\n",
              "      <th>person_home_ownership</th>\n",
              "      <th>loan_amnt</th>\n",
              "      <th>loan_intent</th>\n",
              "      <th>loan_int_rate</th>\n",
              "      <th>loan_percent_income</th>\n",
              "      <th>cb_person_cred_hist_length</th>\n",
              "      <th>credit_score</th>\n",
              "      <th>previous_loan_defaults_on_file</th>\n",
              "      <th>loan_status</th>\n",
              "    </tr>\n",
              "  </thead>\n",
              "  <tbody>\n",
              "    <tr>\n",
              "      <th>0</th>\n",
              "      <td>22.0</td>\n",
              "      <td>female</td>\n",
              "      <td>Master</td>\n",
              "      <td>71948.0</td>\n",
              "      <td>0</td>\n",
              "      <td>RENT</td>\n",
              "      <td>35000.0</td>\n",
              "      <td>PERSONAL</td>\n",
              "      <td>16.02</td>\n",
              "      <td>0.49</td>\n",
              "      <td>3.0</td>\n",
              "      <td>561</td>\n",
              "      <td>No</td>\n",
              "      <td>1</td>\n",
              "    </tr>\n",
              "    <tr>\n",
              "      <th>1</th>\n",
              "      <td>21.0</td>\n",
              "      <td>female</td>\n",
              "      <td>High School</td>\n",
              "      <td>12282.0</td>\n",
              "      <td>0</td>\n",
              "      <td>OWN</td>\n",
              "      <td>1000.0</td>\n",
              "      <td>EDUCATION</td>\n",
              "      <td>11.14</td>\n",
              "      <td>0.08</td>\n",
              "      <td>2.0</td>\n",
              "      <td>504</td>\n",
              "      <td>Yes</td>\n",
              "      <td>0</td>\n",
              "    </tr>\n",
              "    <tr>\n",
              "      <th>2</th>\n",
              "      <td>25.0</td>\n",
              "      <td>female</td>\n",
              "      <td>High School</td>\n",
              "      <td>12438.0</td>\n",
              "      <td>3</td>\n",
              "      <td>MORTGAGE</td>\n",
              "      <td>5500.0</td>\n",
              "      <td>MEDICAL</td>\n",
              "      <td>12.87</td>\n",
              "      <td>0.44</td>\n",
              "      <td>3.0</td>\n",
              "      <td>635</td>\n",
              "      <td>No</td>\n",
              "      <td>1</td>\n",
              "    </tr>\n",
              "    <tr>\n",
              "      <th>3</th>\n",
              "      <td>23.0</td>\n",
              "      <td>female</td>\n",
              "      <td>Bachelor</td>\n",
              "      <td>79753.0</td>\n",
              "      <td>0</td>\n",
              "      <td>RENT</td>\n",
              "      <td>35000.0</td>\n",
              "      <td>MEDICAL</td>\n",
              "      <td>15.23</td>\n",
              "      <td>0.44</td>\n",
              "      <td>2.0</td>\n",
              "      <td>675</td>\n",
              "      <td>No</td>\n",
              "      <td>1</td>\n",
              "    </tr>\n",
              "    <tr>\n",
              "      <th>4</th>\n",
              "      <td>24.0</td>\n",
              "      <td>male</td>\n",
              "      <td>Master</td>\n",
              "      <td>66135.0</td>\n",
              "      <td>1</td>\n",
              "      <td>RENT</td>\n",
              "      <td>35000.0</td>\n",
              "      <td>MEDICAL</td>\n",
              "      <td>14.27</td>\n",
              "      <td>0.53</td>\n",
              "      <td>4.0</td>\n",
              "      <td>586</td>\n",
              "      <td>No</td>\n",
              "      <td>1</td>\n",
              "    </tr>\n",
              "  </tbody>\n",
              "</table>\n",
              "</div>\n",
              "    <div class=\"colab-df-buttons\">\n",
              "\n",
              "  <div class=\"colab-df-container\">\n",
              "    <button class=\"colab-df-convert\" onclick=\"convertToInteractive('df-0f1ca573-3fb5-4052-a3f4-d0d7f0323eb4')\"\n",
              "            title=\"Convert this dataframe to an interactive table.\"\n",
              "            style=\"display:none;\">\n",
              "\n",
              "  <svg xmlns=\"http://www.w3.org/2000/svg\" height=\"24px\" viewBox=\"0 -960 960 960\">\n",
              "    <path d=\"M120-120v-720h720v720H120Zm60-500h600v-160H180v160Zm220 220h160v-160H400v160Zm0 220h160v-160H400v160ZM180-400h160v-160H180v160Zm440 0h160v-160H620v160ZM180-180h160v-160H180v160Zm440 0h160v-160H620v160Z\"/>\n",
              "  </svg>\n",
              "    </button>\n",
              "\n",
              "  <style>\n",
              "    .colab-df-container {\n",
              "      display:flex;\n",
              "      gap: 12px;\n",
              "    }\n",
              "\n",
              "    .colab-df-convert {\n",
              "      background-color: #E8F0FE;\n",
              "      border: none;\n",
              "      border-radius: 50%;\n",
              "      cursor: pointer;\n",
              "      display: none;\n",
              "      fill: #1967D2;\n",
              "      height: 32px;\n",
              "      padding: 0 0 0 0;\n",
              "      width: 32px;\n",
              "    }\n",
              "\n",
              "    .colab-df-convert:hover {\n",
              "      background-color: #E2EBFA;\n",
              "      box-shadow: 0px 1px 2px rgba(60, 64, 67, 0.3), 0px 1px 3px 1px rgba(60, 64, 67, 0.15);\n",
              "      fill: #174EA6;\n",
              "    }\n",
              "\n",
              "    .colab-df-buttons div {\n",
              "      margin-bottom: 4px;\n",
              "    }\n",
              "\n",
              "    [theme=dark] .colab-df-convert {\n",
              "      background-color: #3B4455;\n",
              "      fill: #D2E3FC;\n",
              "    }\n",
              "\n",
              "    [theme=dark] .colab-df-convert:hover {\n",
              "      background-color: #434B5C;\n",
              "      box-shadow: 0px 1px 3px 1px rgba(0, 0, 0, 0.15);\n",
              "      filter: drop-shadow(0px 1px 2px rgba(0, 0, 0, 0.3));\n",
              "      fill: #FFFFFF;\n",
              "    }\n",
              "  </style>\n",
              "\n",
              "    <script>\n",
              "      const buttonEl =\n",
              "        document.querySelector('#df-0f1ca573-3fb5-4052-a3f4-d0d7f0323eb4 button.colab-df-convert');\n",
              "      buttonEl.style.display =\n",
              "        google.colab.kernel.accessAllowed ? 'block' : 'none';\n",
              "\n",
              "      async function convertToInteractive(key) {\n",
              "        const element = document.querySelector('#df-0f1ca573-3fb5-4052-a3f4-d0d7f0323eb4');\n",
              "        const dataTable =\n",
              "          await google.colab.kernel.invokeFunction('convertToInteractive',\n",
              "                                                    [key], {});\n",
              "        if (!dataTable) return;\n",
              "\n",
              "        const docLinkHtml = 'Like what you see? Visit the ' +\n",
              "          '<a target=\"_blank\" href=https://colab.research.google.com/notebooks/data_table.ipynb>data table notebook</a>'\n",
              "          + ' to learn more about interactive tables.';\n",
              "        element.innerHTML = '';\n",
              "        dataTable['output_type'] = 'display_data';\n",
              "        await google.colab.output.renderOutput(dataTable, element);\n",
              "        const docLink = document.createElement('div');\n",
              "        docLink.innerHTML = docLinkHtml;\n",
              "        element.appendChild(docLink);\n",
              "      }\n",
              "    </script>\n",
              "  </div>\n",
              "\n",
              "\n",
              "    <div id=\"df-432bea2d-e7fd-4818-baa0-cf0a3eaafeb3\">\n",
              "      <button class=\"colab-df-quickchart\" onclick=\"quickchart('df-432bea2d-e7fd-4818-baa0-cf0a3eaafeb3')\"\n",
              "                title=\"Suggest charts\"\n",
              "                style=\"display:none;\">\n",
              "\n",
              "<svg xmlns=\"http://www.w3.org/2000/svg\" height=\"24px\"viewBox=\"0 0 24 24\"\n",
              "     width=\"24px\">\n",
              "    <g>\n",
              "        <path d=\"M19 3H5c-1.1 0-2 .9-2 2v14c0 1.1.9 2 2 2h14c1.1 0 2-.9 2-2V5c0-1.1-.9-2-2-2zM9 17H7v-7h2v7zm4 0h-2V7h2v10zm4 0h-2v-4h2v4z\"/>\n",
              "    </g>\n",
              "</svg>\n",
              "      </button>\n",
              "\n",
              "<style>\n",
              "  .colab-df-quickchart {\n",
              "      --bg-color: #E8F0FE;\n",
              "      --fill-color: #1967D2;\n",
              "      --hover-bg-color: #E2EBFA;\n",
              "      --hover-fill-color: #174EA6;\n",
              "      --disabled-fill-color: #AAA;\n",
              "      --disabled-bg-color: #DDD;\n",
              "  }\n",
              "\n",
              "  [theme=dark] .colab-df-quickchart {\n",
              "      --bg-color: #3B4455;\n",
              "      --fill-color: #D2E3FC;\n",
              "      --hover-bg-color: #434B5C;\n",
              "      --hover-fill-color: #FFFFFF;\n",
              "      --disabled-bg-color: #3B4455;\n",
              "      --disabled-fill-color: #666;\n",
              "  }\n",
              "\n",
              "  .colab-df-quickchart {\n",
              "    background-color: var(--bg-color);\n",
              "    border: none;\n",
              "    border-radius: 50%;\n",
              "    cursor: pointer;\n",
              "    display: none;\n",
              "    fill: var(--fill-color);\n",
              "    height: 32px;\n",
              "    padding: 0;\n",
              "    width: 32px;\n",
              "  }\n",
              "\n",
              "  .colab-df-quickchart:hover {\n",
              "    background-color: var(--hover-bg-color);\n",
              "    box-shadow: 0 1px 2px rgba(60, 64, 67, 0.3), 0 1px 3px 1px rgba(60, 64, 67, 0.15);\n",
              "    fill: var(--button-hover-fill-color);\n",
              "  }\n",
              "\n",
              "  .colab-df-quickchart-complete:disabled,\n",
              "  .colab-df-quickchart-complete:disabled:hover {\n",
              "    background-color: var(--disabled-bg-color);\n",
              "    fill: var(--disabled-fill-color);\n",
              "    box-shadow: none;\n",
              "  }\n",
              "\n",
              "  .colab-df-spinner {\n",
              "    border: 2px solid var(--fill-color);\n",
              "    border-color: transparent;\n",
              "    border-bottom-color: var(--fill-color);\n",
              "    animation:\n",
              "      spin 1s steps(1) infinite;\n",
              "  }\n",
              "\n",
              "  @keyframes spin {\n",
              "    0% {\n",
              "      border-color: transparent;\n",
              "      border-bottom-color: var(--fill-color);\n",
              "      border-left-color: var(--fill-color);\n",
              "    }\n",
              "    20% {\n",
              "      border-color: transparent;\n",
              "      border-left-color: var(--fill-color);\n",
              "      border-top-color: var(--fill-color);\n",
              "    }\n",
              "    30% {\n",
              "      border-color: transparent;\n",
              "      border-left-color: var(--fill-color);\n",
              "      border-top-color: var(--fill-color);\n",
              "      border-right-color: var(--fill-color);\n",
              "    }\n",
              "    40% {\n",
              "      border-color: transparent;\n",
              "      border-right-color: var(--fill-color);\n",
              "      border-top-color: var(--fill-color);\n",
              "    }\n",
              "    60% {\n",
              "      border-color: transparent;\n",
              "      border-right-color: var(--fill-color);\n",
              "    }\n",
              "    80% {\n",
              "      border-color: transparent;\n",
              "      border-right-color: var(--fill-color);\n",
              "      border-bottom-color: var(--fill-color);\n",
              "    }\n",
              "    90% {\n",
              "      border-color: transparent;\n",
              "      border-bottom-color: var(--fill-color);\n",
              "    }\n",
              "  }\n",
              "</style>\n",
              "\n",
              "      <script>\n",
              "        async function quickchart(key) {\n",
              "          const quickchartButtonEl =\n",
              "            document.querySelector('#' + key + ' button');\n",
              "          quickchartButtonEl.disabled = true;  // To prevent multiple clicks.\n",
              "          quickchartButtonEl.classList.add('colab-df-spinner');\n",
              "          try {\n",
              "            const charts = await google.colab.kernel.invokeFunction(\n",
              "                'suggestCharts', [key], {});\n",
              "          } catch (error) {\n",
              "            console.error('Error during call to suggestCharts:', error);\n",
              "          }\n",
              "          quickchartButtonEl.classList.remove('colab-df-spinner');\n",
              "          quickchartButtonEl.classList.add('colab-df-quickchart-complete');\n",
              "        }\n",
              "        (() => {\n",
              "          let quickchartButtonEl =\n",
              "            document.querySelector('#df-432bea2d-e7fd-4818-baa0-cf0a3eaafeb3 button');\n",
              "          quickchartButtonEl.style.display =\n",
              "            google.colab.kernel.accessAllowed ? 'block' : 'none';\n",
              "        })();\n",
              "      </script>\n",
              "    </div>\n",
              "\n",
              "    </div>\n",
              "  </div>\n"
            ],
            "application/vnd.google.colaboratory.intrinsic+json": {
              "type": "dataframe",
              "variable_name": "df",
              "summary": "{\n  \"name\": \"df\",\n  \"rows\": 45000,\n  \"fields\": [\n    {\n      \"column\": \"person_age\",\n      \"properties\": {\n        \"dtype\": \"number\",\n        \"std\": 6.045108211348622,\n        \"min\": 20.0,\n        \"max\": 144.0,\n        \"num_unique_values\": 60,\n        \"samples\": [\n          22.0,\n          26.0,\n          53.0\n        ],\n        \"semantic_type\": \"\",\n        \"description\": \"\"\n      }\n    },\n    {\n      \"column\": \"person_gender\",\n      \"properties\": {\n        \"dtype\": \"category\",\n        \"num_unique_values\": 2,\n        \"samples\": [\n          \"male\",\n          \"female\"\n        ],\n        \"semantic_type\": \"\",\n        \"description\": \"\"\n      }\n    },\n    {\n      \"column\": \"person_education\",\n      \"properties\": {\n        \"dtype\": \"category\",\n        \"num_unique_values\": 5,\n        \"samples\": [\n          \"High School\",\n          \"Doctorate\"\n        ],\n        \"semantic_type\": \"\",\n        \"description\": \"\"\n      }\n    },\n    {\n      \"column\": \"person_income\",\n      \"properties\": {\n        \"dtype\": \"number\",\n        \"std\": 80422.49863189556,\n        \"min\": 8000.0,\n        \"max\": 7200766.0,\n        \"num_unique_values\": 33989,\n        \"samples\": [\n          48967.0,\n          31001.0\n        ],\n        \"semantic_type\": \"\",\n        \"description\": \"\"\n      }\n    },\n    {\n      \"column\": \"person_emp_exp\",\n      \"properties\": {\n        \"dtype\": \"number\",\n        \"std\": 6,\n        \"min\": 0,\n        \"max\": 125,\n        \"num_unique_values\": 63,\n        \"samples\": [\n          93,\n          76\n        ],\n        \"semantic_type\": \"\",\n        \"description\": \"\"\n      }\n    },\n    {\n      \"column\": \"person_home_ownership\",\n      \"properties\": {\n        \"dtype\": \"category\",\n        \"num_unique_values\": 4,\n        \"samples\": [\n          \"OWN\",\n          \"OTHER\"\n        ],\n        \"semantic_type\": \"\",\n        \"description\": \"\"\n      }\n    },\n    {\n      \"column\": \"loan_amnt\",\n      \"properties\": {\n        \"dtype\": \"number\",\n        \"std\": 6314.8866905411405,\n        \"min\": 500.0,\n        \"max\": 35000.0,\n        \"num_unique_values\": 4483,\n        \"samples\": [\n          5800.0,\n          28338.0\n        ],\n        \"semantic_type\": \"\",\n        \"description\": \"\"\n      }\n    },\n    {\n      \"column\": \"loan_intent\",\n      \"properties\": {\n        \"dtype\": \"category\",\n        \"num_unique_values\": 6,\n        \"samples\": [\n          \"PERSONAL\",\n          \"EDUCATION\"\n        ],\n        \"semantic_type\": \"\",\n        \"description\": \"\"\n      }\n    },\n    {\n      \"column\": \"loan_int_rate\",\n      \"properties\": {\n        \"dtype\": \"number\",\n        \"std\": 2.9788082802254734,\n        \"min\": 5.42,\n        \"max\": 20.0,\n        \"num_unique_values\": 1302,\n        \"samples\": [\n          15.0,\n          13.45\n        ],\n        \"semantic_type\": \"\",\n        \"description\": \"\"\n      }\n    },\n    {\n      \"column\": \"loan_percent_income\",\n      \"properties\": {\n        \"dtype\": \"number\",\n        \"std\": 0.08721230801403355,\n        \"min\": 0.0,\n        \"max\": 0.66,\n        \"num_unique_values\": 64,\n        \"samples\": [\n          0.45,\n          0.54\n        ],\n        \"semantic_type\": \"\",\n        \"description\": \"\"\n      }\n    },\n    {\n      \"column\": \"cb_person_cred_hist_length\",\n      \"properties\": {\n        \"dtype\": \"number\",\n        \"std\": 3.8797018451620433,\n        \"min\": 2.0,\n        \"max\": 30.0,\n        \"num_unique_values\": 29,\n        \"samples\": [\n          24.0,\n          25.0\n        ],\n        \"semantic_type\": \"\",\n        \"description\": \"\"\n      }\n    },\n    {\n      \"column\": \"credit_score\",\n      \"properties\": {\n        \"dtype\": \"number\",\n        \"std\": 50,\n        \"min\": 390,\n        \"max\": 850,\n        \"num_unique_values\": 340,\n        \"samples\": [\n          492,\n          484\n        ],\n        \"semantic_type\": \"\",\n        \"description\": \"\"\n      }\n    },\n    {\n      \"column\": \"previous_loan_defaults_on_file\",\n      \"properties\": {\n        \"dtype\": \"category\",\n        \"num_unique_values\": 2,\n        \"samples\": [\n          \"Yes\",\n          \"No\"\n        ],\n        \"semantic_type\": \"\",\n        \"description\": \"\"\n      }\n    },\n    {\n      \"column\": \"loan_status\",\n      \"properties\": {\n        \"dtype\": \"number\",\n        \"std\": 0,\n        \"min\": 0,\n        \"max\": 1,\n        \"num_unique_values\": 2,\n        \"samples\": [\n          0,\n          1\n        ],\n        \"semantic_type\": \"\",\n        \"description\": \"\"\n      }\n    }\n  ]\n}"
            }
          },
          "metadata": {},
          "execution_count": 56
        }
      ]
    },
    {
      "cell_type": "code",
      "source": [
        "df.shape"
      ],
      "metadata": {
        "colab": {
          "base_uri": "https://localhost:8080/"
        },
        "id": "5cHGZJKYuyJV",
        "outputId": "8aa3c4cf-067c-443a-8ec5-6fe79ca4be1f"
      },
      "execution_count": 57,
      "outputs": [
        {
          "output_type": "execute_result",
          "data": {
            "text/plain": [
              "(45000, 14)"
            ]
          },
          "metadata": {},
          "execution_count": 57
        }
      ]
    },
    {
      "cell_type": "code",
      "source": [
        "df.columns"
      ],
      "metadata": {
        "colab": {
          "base_uri": "https://localhost:8080/"
        },
        "id": "IOIHdyweuy6t",
        "outputId": "b3d4e232-e597-41d5-97a4-1af322d82e6e"
      },
      "execution_count": 58,
      "outputs": [
        {
          "output_type": "execute_result",
          "data": {
            "text/plain": [
              "Index(['person_age', 'person_gender', 'person_education', 'person_income',\n",
              "       'person_emp_exp', 'person_home_ownership', 'loan_amnt', 'loan_intent',\n",
              "       'loan_int_rate', 'loan_percent_income', 'cb_person_cred_hist_length',\n",
              "       'credit_score', 'previous_loan_defaults_on_file', 'loan_status'],\n",
              "      dtype='object')"
            ]
          },
          "metadata": {},
          "execution_count": 58
        }
      ]
    },
    {
      "cell_type": "code",
      "source": [
        "# Count of each class in the target column\n",
        "class_counts = df['loan_status'].value_counts()\n",
        "print(class_counts)\n",
        "\n",
        "# Percentage distribution\n",
        "class_percent = df['loan_status'].value_counts(normalize=True) * 100\n",
        "print(\"\\nPercentage distribution:\\n\", class_percent)"
      ],
      "metadata": {
        "colab": {
          "base_uri": "https://localhost:8080/"
        },
        "id": "dC0zXlVovBWu",
        "outputId": "9bf0c6c2-b058-4815-b574-277a16fcf54e"
      },
      "execution_count": 59,
      "outputs": [
        {
          "output_type": "stream",
          "name": "stdout",
          "text": [
            "loan_status\n",
            "0    35000\n",
            "1    10000\n",
            "Name: count, dtype: int64\n",
            "\n",
            "Percentage distribution:\n",
            " loan_status\n",
            "0    77.777778\n",
            "1    22.222222\n",
            "Name: proportion, dtype: float64\n"
          ]
        }
      ]
    },
    {
      "cell_type": "code",
      "source": [
        "import matplotlib.pyplot as plt\n",
        "\n",
        "class_counts.plot(kind='bar')\n",
        "plt.title(\"Loan Status Distribution\")\n",
        "plt.xlabel(\"Loan Status\")\n",
        "plt.ylabel(\"Count\")\n",
        "plt.xticks(ticks=[0, 1], labels=[\"Not Approved (0)\", \"Approved (1)\"], rotation=0)\n",
        "plt.show()"
      ],
      "metadata": {
        "colab": {
          "base_uri": "https://localhost:8080/"
        },
        "id": "NFx-MchYvDma",
        "outputId": "fa17dc09-8f86-4217-b9b8-2ec61e0eb845"
      },
      "execution_count": 60,
      "outputs": [
        {
          "output_type": "display_data",
          "data": {
            "text/plain": [
              "<Figure size 640x480 with 1 Axes>"
            ],
            "image/png": "[encoded data removed]"
          },
          "metadata": {}
        }
      ]
    },
    {
      "cell_type": "markdown",
      "source": [
        "# Preprocessing the data"
      ],
      "metadata": {
        "id": "boNDoH4zAyfn"
      }
    },
    {
      "cell_type": "code",
      "source": [
        "# Importing the dependencies\n",
        "\n",
        "import pandas as pd\n",
        "import torch\n",
        "import torch.nn as nn\n",
        "import torch.optim as optim\n",
        "from torch.utils.data import TensorDataset, DataLoader\n",
        "from sklearn.model_selection import train_test_split\n",
        "from sklearn.preprocessing import LabelEncoder, StandardScaler\n",
        "from sklearn.metrics import accuracy_score, precision_score, recall_score, f1_score, confusion_matrix, ConfusionMatrixDisplay\n",
        "from sklearn.utils.class_weight import compute_class_weight\n",
        "import matplotlib.pyplot as plt\n",
        "import numpy as np"
      ],
      "metadata": {
        "id": "d8qpAIBBMtQb"
      },
      "execution_count": 61,
      "outputs": []
    },
    {
      "cell_type": "code",
      "source": [
        "# === FEATURE ENGINEERING ===\n",
        "df[\"debt_to_income\"] = df[\"loan_amnt\"] / (df[\"person_income\"] + 1)\n",
        "df[\"loan_burden_score\"] = df[\"loan_int_rate\"] * df[\"loan_percent_income\"]\n",
        "df[\"income_stability\"] = df[\"person_income\"] * (df[\"person_emp_exp\"] + 1)\n",
        "df[\"intent_edu\"] = df[\"loan_intent\"].astype(str) + \"_\" + df[\"person_education\"].astype(str)\n",
        "df[\"credit_income_ratio\"] = df[\"credit_score\"] / (df[\"person_income\"] + 1)\n",
        "df[\"exp_loan_ratio\"] = (df[\"person_emp_exp\"] + 1) / (df[\"loan_amnt\"] + 1)\n",
        "df[\"risk_score_est\"] = df[\"credit_score\"] * df[\"cb_person_cred_hist_length\"]\n",
        "df[\"income_per_year_exp\"] = df[\"person_income\"] / (df[\"person_emp_exp\"] + 1)\n",
        "df[\"ownership_income\"] = df[\"person_home_ownership\"].astype(str) + \"_\" + pd.qcut(df[\"person_income\"], q=3, duplicates='drop').astype(str)"
      ],
      "metadata": {
        "id": "awOaFQmIWGtg"
      },
      "execution_count": 62,
      "outputs": []
    },
    {
      "cell_type": "code",
      "source": [
        "categorical_cols = ['person_gender', 'person_education', 'person_home_ownership',\n",
        "                    'loan_intent', 'previous_loan_defaults_on_file', 'intent_edu', 'ownership_income']\n",
        "for col in categorical_cols:\n",
        "    df[col] = LabelEncoder().fit_transform(df[col].astype(str))\n"
      ],
      "metadata": {
        "id": "0cePBb-VMtMp"
      },
      "execution_count": 63,
      "outputs": []
    },
    {
      "cell_type": "code",
      "source": [
        "numerical_cols = ['person_age', 'person_income', 'person_emp_exp', 'loan_amnt',\n",
        "                  'loan_int_rate', 'loan_percent_income', 'cb_person_cred_hist_length', 'credit_score',\n",
        "                  'debt_to_income', 'loan_burden_score', 'income_stability',\n",
        "                  'credit_income_ratio', 'exp_loan_ratio', 'risk_score_est', 'income_per_year_exp']\n",
        "df[numerical_cols] = StandardScaler().fit_transform(df[numerical_cols])"
      ],
      "metadata": {
        "id": "ImRCviLiWOaz"
      },
      "execution_count": 64,
      "outputs": []
    },
    {
      "cell_type": "code",
      "source": [
        "# Encode categorical features\n",
        "label_encoders = {}\n",
        "\n",
        "# Check for columns before applying LabelEncoding\n",
        "categorical_cols_exist = [col for col in categorical_cols if col in df.columns]\n",
        "\n",
        "\n",
        "for col in categorical_cols_exist:  # Process only existing columns\n",
        "    # Label Encoding if column is of object type and has not been encoded yet\n",
        "    if df[col].dtype == 'object' and col not in label_encoders:\n",
        "        le = LabelEncoder()\n",
        "        df[col] = le.fit_transform(df[col])\n",
        "        label_encoders[col] = le\n",
        "    else:\n",
        "        print(f\"Column '{col}' has already been encoded or is not of object type. Skipping.\")"
      ],
      "metadata": {
        "id": "MfvP3EV2MtHy",
        "colab": {
          "base_uri": "https://localhost:8080/"
        },
        "outputId": "c61aea73-1b61-4080-d700-6c5433b0b492"
      },
      "execution_count": 65,
      "outputs": [
        {
          "output_type": "stream",
          "name": "stdout",
          "text": [
            "Column 'person_gender' has already been encoded or is not of object type. Skipping.\n",
            "Column 'person_education' has already been encoded or is not of object type. Skipping.\n",
            "Column 'person_home_ownership' has already been encoded or is not of object type. Skipping.\n",
            "Column 'loan_intent' has already been encoded or is not of object type. Skipping.\n",
            "Column 'previous_loan_defaults_on_file' has already been encoded or is not of object type. Skipping.\n",
            "Column 'intent_edu' has already been encoded or is not of object type. Skipping.\n",
            "Column 'ownership_income' has already been encoded or is not of object type. Skipping.\n"
          ]
        }
      ]
    },
    {
      "cell_type": "markdown",
      "source": [
        "# Splitting the data"
      ],
      "metadata": {
        "id": "R99OrzC0VNZ9"
      }
    },
    {
      "cell_type": "code",
      "source": [
        "# TRAIN-VALIDATION-TEST SPLIT\n",
        "X = df.drop(\"loan_status\", axis=1)\n",
        "y = df[\"loan_status\"]"
      ],
      "metadata": {
        "id": "Ee5cFWpjN-IP"
      },
      "execution_count": 66,
      "outputs": []
    },
    {
      "cell_type": "code",
      "source": [
        "X_train_val, X_test, y_train_val, y_test = train_test_split(X, y, test_size=0.2, random_state=42)\n",
        "X_train, X_val, y_train, y_val = train_test_split(X_train_val, y_train_val, test_size=0.3, random_state=42)\n"
      ],
      "metadata": {
        "id": "5RDxbSabN_rf"
      },
      "execution_count": 67,
      "outputs": []
    },
    {
      "cell_type": "code",
      "source": [
        "\n",
        "# Convert to PyTorch tensors\n",
        "X_train_tensor = torch.tensor(X_train.values.astype(np.float32), dtype=torch.float32)\n",
        "y_train_tensor = torch.tensor(y_train.values, dtype=torch.float32).view(-1, 1)\n",
        "X_val_tensor = torch.tensor(X_val.values.astype(np.float32), dtype=torch.float32)\n",
        "y_val_tensor = torch.tensor(y_val.values, dtype=torch.float32).view(-1, 1)\n",
        "X_test_tensor = torch.tensor(X_test.values.astype(np.float32), dtype=torch.float32)\n",
        "y_test_tensor = torch.tensor(y_test.values, dtype=torch.float32).view(-1, 1)"
      ],
      "metadata": {
        "id": "DCUabMEAOBuv"
      },
      "execution_count": 68,
      "outputs": []
    },
    {
      "cell_type": "code",
      "source": [
        "# Class-weighted loss\n",
        "weights = compute_class_weight(class_weight='balanced', classes=np.array([0, 1]), y=y_train.values) # Convert classes to numpy array\n",
        "weights = torch.tensor(weights, dtype=torch.float32)"
      ],
      "metadata": {
        "id": "YqMhDDj8a5ii"
      },
      "execution_count": 69,
      "outputs": []
    },
    {
      "cell_type": "code",
      "source": [
        "def weighted_bce_loss(output, target):\n",
        "    return - (weights[1] * target * torch.log(output + 1e-7) +\n",
        "              weights[0] * (1 - target) * torch.log(1 - output + 1e-7)).mean()"
      ],
      "metadata": {
        "id": "uEk1Q2hCf78Z"
      },
      "execution_count": 70,
      "outputs": []
    },
    {
      "cell_type": "code",
      "source": [
        "# DataLoaders\n",
        "train_ds = TensorDataset(X_train_tensor, y_train_tensor)\n",
        "val_ds = TensorDataset(X_val_tensor, y_val_tensor)\n",
        "test_ds = TensorDataset(X_test_tensor, y_test_tensor)"
      ],
      "metadata": {
        "id": "GtuqRV1VOEdf"
      },
      "execution_count": 71,
      "outputs": []
    },
    {
      "cell_type": "code",
      "source": [
        "train_dl = DataLoader(train_ds, batch_size=32, shuffle=True)\n",
        "val_dl = DataLoader(val_ds, batch_size=32)\n",
        "test_dl = DataLoader(test_ds, batch_size=32)"
      ],
      "metadata": {
        "id": "P4q_qD4cOIU8"
      },
      "execution_count": 72,
      "outputs": []
    },
    {
      "cell_type": "markdown",
      "source": [
        "# Building the neural network"
      ],
      "metadata": {
        "id": "XS1b8SrQOQ85"
      }
    },
    {
      "cell_type": "code",
      "source": [
        "class LoanClassifier(nn.Module):\n",
        "    def __init__(self, input_dim):\n",
        "        super().__init__()\n",
        "        self.net = nn.Sequential(\n",
        "            nn.Linear(input_dim, 256),\n",
        "            nn.BatchNorm1d(256),       # ← BatchNorm\n",
        "            nn.LeakyReLU(),\n",
        "            nn.Dropout(0.3),\n",
        "\n",
        "            nn.Linear(256, 128),\n",
        "            nn.BatchNorm1d(128),       # ← BatchNorm\n",
        "            nn.LeakyReLU(),\n",
        "            nn.Dropout(0.3),\n",
        "\n",
        "            nn.Linear(128, 64),\n",
        "            nn.BatchNorm1d(64),        # ← BatchNorm\n",
        "            nn.LeakyReLU(),\n",
        "\n",
        "            nn.Linear(64, 1),\n",
        "            nn.Sigmoid()\n",
        "        )\n",
        "\n",
        "    def forward(self, x):\n",
        "        return self.net(x)"
      ],
      "metadata": {
        "id": "WOjqAJuJOKXx"
      },
      "execution_count": 73,
      "outputs": []
    },
    {
      "cell_type": "code",
      "source": [
        "# model = LoanClassifier(input_dim=X_train.shape[1])\n",
        "# # loss_fn = nn.BCELoss()\n",
        "# optimizer = optim.AdamW(model.parameters(), lr=0.001, weight_decay=1e-4)\n",
        "# scheduler = optim.lr_scheduler.ReduceLROnPlateau(optimizer, patience=3, factor=0.5, verbose=True)"
      ],
      "metadata": {
        "id": "cQQQCznHOZRl"
      },
      "execution_count": 74,
      "outputs": []
    },
    {
      "cell_type": "code",
      "source": [
        "import torch\n",
        "import torch.nn as nn\n",
        "import torch.optim as optim\n",
        "\n",
        "# === Model Instantiation ===\n",
        "model = LoanClassifier(input_dim=X_train.shape[1])\n",
        "\n",
        "# === Optimizer: AdamW with weight decay ===\n",
        "optimizer = optim.AdamW(model.parameters(), lr=0.0005, weight_decay=1e-4)\n",
        "\n",
        "# === Cosine Annealing Learning Rate Scheduler ===\n",
        "scheduler = torch.optim.lr_scheduler.CosineAnnealingLR(optimizer, T_max=10)\n",
        "\n",
        "# === Focal Loss Implementation ===\n",
        "class FocalLoss(nn.Module):\n",
        "    def __init__(self, alpha=0.25, gamma=2):\n",
        "        super(FocalLoss, self).__init__()\n",
        "        self.alpha = alpha\n",
        "        self.gamma = gamma\n",
        "\n",
        "    def forward(self, inputs, targets):\n",
        "        BCE_loss = nn.BCELoss(reduction='none')(inputs, targets)\n",
        "        pt = torch.exp(-BCE_loss)\n",
        "        focal_loss = self.alpha * (1 - pt) ** self.gamma * BCE_loss\n",
        "        return focal_loss.mean()\n",
        "\n",
        "# === Instantiate Focal Loss ===\n",
        "loss_fn = FocalLoss(alpha=0.25, gamma=2)\n"
      ],
      "metadata": {
        "id": "FUxS1pcAPjgl"
      },
      "execution_count": 75,
      "outputs": []
    },
    {
      "cell_type": "code",
      "source": [
        "# def train_model(model, train_dl, val_dl, loss_fn, optimizer, scheduler, epochs=50, patience=5):\n",
        "#     best_val_loss = float('inf')\n",
        "#     patience_counter = 0\n",
        "#     best_model_state = None\n",
        "\n",
        "#     for epoch in range(epochs):\n",
        "#         model.train()\n",
        "#         for xb, yb in train_dl:\n",
        "#             pred = model(xb)\n",
        "#             loss = loss_fn(pred, yb)\n",
        "#             loss.backward()\n",
        "#             optimizer.step()\n",
        "#             optimizer.zero_grad()\n",
        "\n",
        "#         model.eval()\n",
        "#         with torch.no_grad():\n",
        "#             val_losses = [loss_fn(model(xb), yb).item() for xb, yb in val_dl]\n",
        "#             val_loss = sum(val_losses) / len(val_losses)\n",
        "#         scheduler.step(val_loss)\n",
        "\n",
        "#         print(f\"Epoch {epoch+1}: Validation Loss = {val_loss:.4f}\")\n",
        "\n",
        "#         if val_loss < best_val_loss:\n",
        "#             best_val_loss = val_loss\n",
        "#             best_model_state = model.state_dict()\n",
        "#             patience_counter = 0\n",
        "#         else:\n",
        "#             patience_counter += 1\n",
        "#             if patience_counter >= patience:\n",
        "#                 print(f\"Early stopping triggered at epoch {epoch+1}\")\n",
        "#                 break\n",
        "\n",
        "#     if best_model_state:\n",
        "#         model.load_state_dict(best_model_state)"
      ],
      "metadata": {
        "id": "tQxeBNTaOa5T"
      },
      "execution_count": 76,
      "outputs": []
    },
    {
      "cell_type": "code",
      "source": [
        "def train_model(model, train_dl, val_dl, loss_fn, optimizer, scheduler, epochs=50, patience=5):\n",
        "    best_val_loss = float('inf')\n",
        "    patience_counter = 0\n",
        "    best_model_state = None\n",
        "\n",
        "    val_losses = []  # Track validation loss over time\n",
        "\n",
        "    for epoch in range(epochs):\n",
        "        model.train()\n",
        "        for xb, yb in train_dl:\n",
        "            pred = model(xb)\n",
        "            loss = loss_fn(pred, yb)\n",
        "            loss.backward()\n",
        "            optimizer.step()\n",
        "            optimizer.zero_grad()\n",
        "\n",
        "        model.eval()\n",
        "        with torch.no_grad():\n",
        "            val_batch_losses = [loss_fn(model(xb), yb).item() for xb, yb in val_dl]\n",
        "            val_loss = sum(val_batch_losses) / len(val_batch_losses)\n",
        "\n",
        "        val_losses.append(val_loss)  # Track validation loss\n",
        "        scheduler.step()\n",
        "\n",
        "        print(f\"Epoch {epoch+1}: Validation Loss = {val_loss:.4f}\")\n",
        "\n",
        "        if val_loss < best_val_loss:\n",
        "            best_val_loss = val_loss\n",
        "            best_model_state = model.state_dict()\n",
        "            patience_counter = 0\n",
        "        else:\n",
        "            patience_counter += 1\n",
        "            if patience_counter >= patience:\n",
        "                print(f\"Early stopping triggered at epoch {epoch+1}\")\n",
        "                break\n",
        "\n",
        "    if best_model_state:\n",
        "        model.load_state_dict(best_model_state)\n",
        "\n",
        "    return val_losses  # Add return so you can plot it\n"
      ],
      "metadata": {
        "id": "915loIrgP0R8"
      },
      "execution_count": 77,
      "outputs": []
    },
    {
      "cell_type": "code",
      "source": [
        "val_losses = train_model(model, train_dl, val_dl, loss_fn, optimizer, scheduler)\n"
      ],
      "metadata": {
        "colab": {
          "base_uri": "https://localhost:8080/"
        },
        "id": "21Gc8WyPOe2k",
        "outputId": "9f449c47-3ddd-4e84-928a-bb6ba54d2fa2"
      },
      "execution_count": 78,
      "outputs": [
        {
          "output_type": "stream",
          "name": "stdout",
          "text": [
            "Epoch 1: Validation Loss = 0.0154\n",
            "Epoch 2: Validation Loss = 0.0139\n",
            "Epoch 3: Validation Loss = 0.0135\n",
            "Epoch 4: Validation Loss = 0.0131\n",
            "Epoch 5: Validation Loss = 0.0132\n",
            "Epoch 6: Validation Loss = 0.0131\n",
            "Epoch 7: Validation Loss = 0.0130\n",
            "Epoch 8: Validation Loss = 0.0128\n",
            "Epoch 9: Validation Loss = 0.0128\n",
            "Epoch 10: Validation Loss = 0.0128\n",
            "Epoch 11: Validation Loss = 0.0129\n",
            "Epoch 12: Validation Loss = 0.0128\n",
            "Epoch 13: Validation Loss = 0.0128\n",
            "Epoch 14: Validation Loss = 0.0129\n",
            "Early stopping triggered at epoch 14\n"
          ]
        }
      ]
    },
    {
      "cell_type": "code",
      "source": [
        "#Plot Validation Loss Over Epochs\n",
        "plt.figure(figsize=(10, 5))\n",
        "plt.plot(val_losses, label=\"Validation Loss\", marker='o', color='orange')\n",
        "plt.title(\"Validation Loss Over Epochs\")\n",
        "plt.xlabel(\"Epoch\")\n",
        "plt.ylabel(\"Loss\")\n",
        "plt.grid(True)\n",
        "plt.legend()\n",
        "plt.tight_layout()\n",
        "plt.show()"
      ],
      "metadata": {
        "colab": {
          "base_uri": "https://localhost:8080/"
        },
        "id": "8QIVPjOfoea5",
        "outputId": "205b8004-3de4-45d9-dfa1-9d6bcc234e8b"
      },
      "execution_count": 79,
      "outputs": [
        {
          "output_type": "display_data",
          "data": {
            "text/plain": [
              "<Figure size 1000x500 with 1 Axes>"
            ],
            "image/png": "[encoded data removed]"
          },
          "metadata": {}
        }
      ]
    },
    {
      "cell_type": "markdown",
      "source": [
        "# Evaluation"
      ],
      "metadata": {
        "id": "OUkUvkh3Owc2"
      }
    },
    {
      "cell_type": "code",
      "source": [
        "model.eval()\n",
        "with torch.no_grad():\n",
        "    y_pred_probs = model(X_test_tensor)\n",
        "\n",
        "#FIND BEST THRESHOLD BASED ON F1\n",
        "best_f1, best_threshold = 0, 0\n",
        "for t in np.arange(0.3, 0.71, 0.01):\n",
        "    y_pred = (y_pred_probs > t).float()\n",
        "    f1 = f1_score(y_test_tensor.numpy(), y_pred.numpy())\n",
        "    if f1 > best_f1:\n",
        "        best_f1 = f1\n",
        "        best_threshold = t\n",
        "\n",
        "print(f\"\\nBest Threshold: {best_threshold:.2f}, Best F1 Score: {best_f1:.2f}\")\n",
        "\n",
        "\n",
        "# Get predictions from the model for the test data\n",
        "model.eval()\n",
        "with torch.no_grad():\n",
        "    y_pred_probs = model(X_test_tensor)\n",
        "    y_pred = (y_pred_probs > 0.5).float()  # Assuming 0.5 as the threshold for binary classification\n",
        "\n",
        "# Convert tensors to NumPy arrays for sklearn functions\n",
        "y_test_np = y_test_tensor.numpy().flatten()\n",
        "y_pred_np = y_pred.numpy().flatten()\n",
        "\n",
        "# Calculate and print metrics\n",
        "print(f\"Accuracy: {accuracy_score(y_test_np, y_pred_np)}\")\n",
        "print(f\"Precision: {precision_score(y_test_np, y_pred_np)}\")\n",
        "print(f\"Recall: {recall_score(y_test_np, y_pred_np)}\")\n",
        "print(f\"F1 Score: {f1_score(y_test_np, y_pred_np)}\")\n"
      ],
      "metadata": {
        "colab": {
          "base_uri": "https://localhost:8080/"
        },
        "id": "pBzWZQBHg1dq",
        "outputId": "974a033e-2a96-4038-81c2-02bbc83d11ca"
      },
      "execution_count": 80,
      "outputs": [
        {
          "output_type": "stream",
          "name": "stdout",
          "text": [
            "\n",
            "Best Threshold: 0.47, Best F1 Score: 0.79\n",
            "Accuracy: 0.9094444444444445\n",
            "Precision: 0.8317601332593004\n",
            "Recall: 0.745273631840796\n",
            "F1 Score: 0.7861453686696405\n"
          ]
        }
      ]
    },
    {
      "cell_type": "code",
      "source": [
        "y_pred_final = (y_pred_probs > best_threshold).float()\n",
        "acc = accuracy_score(y_test_tensor.numpy(), y_pred_final.numpy())\n",
        "prec = precision_score(y_test_tensor.numpy(), y_pred_final.numpy())\n",
        "rec = recall_score(y_test_tensor.numpy(), y_pred_final.numpy())\n",
        "f1 = f1_score(y_test_tensor.numpy(), y_pred_final.numpy())\n",
        "print(f\"Accuracy: {acc:.2f}, Precision: {prec:.2f}, Recall: {rec:.2f}, F1: {f1:.2f}\")"
      ],
      "metadata": {
        "colab": {
          "base_uri": "https://localhost:8080/"
        },
        "id": "hmZZ5us8j0wx",
        "outputId": "bf2a2be4-5293-489c-d848-255b74c77198"
      },
      "execution_count": 81,
      "outputs": [
        {
          "output_type": "stream",
          "name": "stdout",
          "text": [
            "Accuracy: 0.91, Precision: 0.80, Recall: 0.79, F1: 0.79\n"
          ]
        }
      ]
    },
    {
      "cell_type": "code",
      "source": [
        "cm = confusion_matrix(y_test_tensor.numpy(), y_pred_final.numpy())\n",
        "disp = ConfusionMatrixDisplay(cm, display_labels=[\"Default\", \"Approved\"])\n",
        "disp.plot()\n",
        "plt.title(f\"Confusion Matrix at Threshold {best_threshold:.2f}\")\n",
        "plt.show()"
      ],
      "metadata": {
        "colab": {
          "base_uri": "https://localhost:8080/"
        },
        "id": "2BPSQtkFj1_l",
        "outputId": "95f6063b-7624-4ea7-89c6-c58a53af57da"
      },
      "execution_count": 82,
      "outputs": [
        {
          "output_type": "display_data",
          "data": {
            "text/plain": [
              "<Figure size 640x480 with 2 Axes>"
            ],
            "image/png": "[encoded data removed]"
          },
          "metadata": {}
        }
      ]
    },
    {
      "cell_type": "markdown",
      "source": [
        "# Explainability"
      ],
      "metadata": {
        "id": "shCxl5HlOy_e"
      }
    },
    {
      "cell_type": "code",
      "source": [
        "!pip install lime --quiet\n",
        "\n"
      ],
      "metadata": {
        "id": "aUiRnZrIO1DJ"
      },
      "execution_count": 83,
      "outputs": []
    },
    {
      "cell_type": "code",
      "source": [
        "!pip install ipywidgets --quiet"
      ],
      "metadata": {
        "id": "unwlUvPDuT2E"
      },
      "execution_count": 84,
      "outputs": []
    },
    {
      "cell_type": "code",
      "source": [
        "from lime.lime_tabular import LimeTabularExplainer\n",
        "import numpy as np\n",
        "import torch\n",
        "\n",
        "# === Step 1: Prepare Data for LIME ===\n",
        "X_train_lime = X_train.values.astype(np.float32)\n",
        "X_test_lime = X_test.values.astype(np.float32)\n",
        "\n",
        "# === Step 2: Define Prediction Function for LIME ===\n",
        "def predict_fn(input_array):\n",
        "    input_tensor = torch.tensor(input_array, dtype=torch.float32)\n",
        "    with torch.no_grad():\n",
        "        probs = model(input_tensor).numpy()  # shape (N, 1)\n",
        "    return np.stack([1 - probs[:, 0], probs[:, 0]], axis=1)\n",
        "\n",
        "# === Step 3: Initialize LIME Explainer ===\n",
        "explainer = LimeTabularExplainer(\n",
        "    training_data=X_train_lime,\n",
        "    feature_names=X_train.columns.tolist(),\n",
        "    class_names=[\"Default\", \"Approved\"],\n",
        "    mode=\"classification\",\n",
        "    discretize_continuous=True\n",
        ")\n",
        "\n",
        "# === Step 4: Explain a Single Test Prediction ===\n",
        "sample_index = 5  # Change this index to explain other samples\n",
        "\n",
        "explanation = explainer.explain_instance(\n",
        "    data_row=X_test_lime[sample_index],\n",
        "    predict_fn=predict_fn,\n",
        "    num_features=10\n",
        ")\n",
        "\n",
        "# === Step 5: Display Explanation (Text-Based, Colab-Compatible) ===\n",
        "print(f\"\\n🔍 LIME Explanation for Test Sample #{sample_index}\")\n",
        "for feature, weight in explanation.as_list():\n",
        "    print(f\"{feature:<50} → {weight:+.4f}\")\n"
      ],
      "metadata": {
        "colab": {
          "base_uri": "https://localhost:8080/"
        },
        "id": "GWQw9YDssZmn",
        "outputId": "c2d6ad4c-1f88-41e4-ee10-1f0ae00a7f84"
      },
      "execution_count": 86,
      "outputs": [
        {
          "output_type": "stream",
          "name": "stdout",
          "text": [
            "\n",
            "🔍 LIME Explanation for Test Sample #5\n",
            "previous_loan_defaults_on_file <= 0.00             → +0.4136\n",
            "loan_int_rate <= -0.82                             → -0.0549\n",
            "credit_income_ratio > 0.38                         → +0.0477\n",
            "person_age > 0.37                                  → +0.0304\n",
            "0.00 < person_home_ownership <= 3.00               → +0.0255\n",
            "0.15 < credit_score <= 0.74                        → -0.0138\n",
            "3.00 < loan_intent <= 4.00                         → +0.0076\n",
            "cb_person_cred_hist_length > 0.55                  → +0.0076\n",
            "-0.23 < person_emp_exp <= 0.43                     → -0.0068\n",
            "-0.09 < income_stability <= -0.06                  → -0.0059\n"
          ]
        }
      ]
    },
    {
      "cell_type": "markdown",
      "source": [
        "The model explains:\n",
        "\n",
        "1. condition = how the value for this feature compares to LIME's threshold\n",
        "\n",
        "2. weight = how much this feature pushed the prediction up (positive) or down (negative)\n",
        "\n",
        "Breakdown:\n",
        "Feature\t- Meaning -\tInfluence\n",
        "\n",
        "- previous_loan_defaults_on_file <= 0.00\tNo previous default → strongly supports approval\t+0.44\n",
        "\n",
        "- loan_int_rate <= -0.82\tVery low interest rate → supports approval\t-0.08\n",
        "\n",
        "- credit_income_ratio > 0.38\tHigh credit score compared to income → supports approval\t+0.06\n",
        "\n",
        "- person_home_ownership <= 3.00\tLikely renting/mortgage vs owned outright → mild influence\t+0.04\n",
        "\n",
        "- person_age > 0.37\tOlder borrower (normalized scale) → slightly supports approval\t+0.02\n",
        "\n",
        "- loan_intent & credit_score\tSmall positive/negative influence (these features are more balanced)\t±0.01\n",
        "\n",
        "- exp_loan_ratio > 0.10\tNot useful — weight = 0.00 means it had no effect\t No impact\n",
        "\n",
        "\n",
        "\n",
        "Most important feature: previous_loan_defaults_on_file (absence of default strongly increased approval)\n",
        "\n",
        "Model decision driver: Mostly credit health and risk flags\n",
        "\n",
        "Some features (like exp_loan_ratio) had no effect on this prediction"
      ],
      "metadata": {
        "id": "3ycyd31xwoZs"
      }
    },
    {
      "cell_type": "code",
      "source": [],
      "metadata": {
        "id": "q7AyO1l_sZhE"
      },
      "execution_count": 85,
      "outputs": []
    }
  ]
}